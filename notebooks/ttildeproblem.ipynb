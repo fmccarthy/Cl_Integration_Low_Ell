{
 "cells": [
  {
   "cell_type": "code",
   "execution_count": 1,
   "metadata": {},
   "outputs": [
    {
     "name": "stdout",
     "output_type": "stream",
     "text": [
      "setting up cosmo functions\n",
      "getting params from CAMB\n",
      "params defined\n",
      "Defining growth function..\n",
      "Growth function defined..\n",
      "Getting power spectra from CAMB\n",
      "Got power spectra\n",
      "Getting transfer function...\n",
      "Got transfer function...\n",
      "cosmo_functions set up.\n",
      "\n",
      "done first interp\n",
      "done derivative interpolations\n",
      "integrating_cls_bessel imported\n"
     ]
    }
   ],
   "source": [
    "%load_ext autoreload\n",
    "%autoreload 2\n",
    "import numpy as np\n",
    "import matplotlib.pyplot as plt\n",
    "\n",
    "from scipy import integrate\n",
    "\n",
    "import sys\n",
    "sys.path.insert(0, '../')\n",
    "\n",
    "#import Integrating_Cls_Bessel\n",
    "#import previous_commit\n",
    "import time\n",
    "\n",
    "from scipy import special\n",
    "\n",
    "import covariance_matrix\n",
    "import Integrating_Cls_Bessel\n",
    "#import this_one_works"
   ]
  },
  {
   "cell_type": "code",
   "execution_count": 7,
   "metadata": {},
   "outputs": [],
   "source": [
    "def hypfnearone(ell,nu,t):\n",
    "    #hypergemetric function evaluated near one as needed to compute t near 1. see appendxix B of 1705.05022\n",
    "    \n",
    "    ##equation B5 of 1705.05022 as equation b6 did not work for me\n",
    "\n",
    "    \n",
    "    ttilde=-(1-t**2)**2/(4*t**2)\n",
    "    t1=-(1-t**2)**2\n",
    "    t2=(4*t**2)\n",
    "    tt=t1/t2\n",
    "    return ttilde,tt\n",
    " \n",
    "    \n",
    "    "
   ]
  },
  {
   "cell_type": "code",
   "execution_count": 8,
   "metadata": {},
   "outputs": [],
   "source": [
    "ells=np.concatenate((np.arange(2,10,dtype=float),np.logspace(np.log10(12),np.log10(5000),100)))\n",
    "ells=np.trunc(ells)"
   ]
  },
  {
   "cell_type": "code",
   "execution_count": 9,
   "metadata": {},
   "outputs": [],
   "source": [
    "maxfreq=200\n",
    "kmin=1e-8\n",
    "kmax=52\n",
    "bias=1.9\n",
    "cns,fns=Integrating_Cls_Bessel.coeffs(Integrating_Cls_Bessel.to_transform,maxfreq,kmin,kmax,bias)\n",
    "cns=cns[0:int(maxfreq/2)+1]\n",
    "fns=fns[0:int((maxfreq)/2)+1]\n"
   ]
  },
  {
   "cell_type": "code",
   "execution_count": 10,
   "metadata": {},
   "outputs": [],
   "source": [
    "ts=np.linspace(1e-5,1-1e-5,50)"
   ]
  },
  {
   "cell_type": "code",
   "execution_count": 11,
   "metadata": {},
   "outputs": [
    {
     "data": {
      "text/plain": [
       "array([[[0.30864198, 0.30864198, 0.30864198, ..., 0.27173449,\n",
       "         0.26053028, 0.250005  ],\n",
       "        [0.30864198, 0.30864198, 0.30864198, ..., 0.27173449,\n",
       "         0.26053028, 0.250005  ],\n",
       "        [0.30864198, 0.30864198, 0.30864198, ..., 0.27173449,\n",
       "         0.26053028, 0.250005  ],\n",
       "        ...,\n",
       "        [0.30864198, 0.30864198, 0.30864198, ..., 0.27173449,\n",
       "         0.26053028, 0.250005  ],\n",
       "        [0.30864198, 0.30864198, 0.30864198, ..., 0.27173449,\n",
       "         0.26053028, 0.250005  ],\n",
       "        [0.30864198, 0.30864198, 0.30864198, ..., 0.27173449,\n",
       "         0.26053028, 0.250005  ]],\n",
       "\n",
       "       [[0.30864198, 0.30864198, 0.30864198, ..., 0.27173449,\n",
       "         0.26053028, 0.250005  ],\n",
       "        [0.30864198, 0.30864198, 0.30864198, ..., 0.27173449,\n",
       "         0.26053028, 0.250005  ],\n",
       "        [0.30864198, 0.30864198, 0.30864198, ..., 0.27173449,\n",
       "         0.26053028, 0.250005  ],\n",
       "        ...,\n",
       "        [0.30864198, 0.30864198, 0.30864198, ..., 0.27173449,\n",
       "         0.26053028, 0.250005  ],\n",
       "        [0.30864198, 0.30864198, 0.30864198, ..., 0.27173449,\n",
       "         0.26053028, 0.250005  ],\n",
       "        [0.30864198, 0.30864198, 0.30864198, ..., 0.27173449,\n",
       "         0.26053028, 0.250005  ]],\n",
       "\n",
       "       [[0.30864198, 0.30864198, 0.30864198, ..., 0.27173449,\n",
       "         0.26053028, 0.250005  ],\n",
       "        [0.30864198, 0.30864198, 0.30864198, ..., 0.27173449,\n",
       "         0.26053028, 0.250005  ],\n",
       "        [0.30864198, 0.30864198, 0.30864198, ..., 0.27173449,\n",
       "         0.26053028, 0.250005  ],\n",
       "        ...,\n",
       "        [0.30864198, 0.30864198, 0.30864198, ..., 0.27173449,\n",
       "         0.26053028, 0.250005  ],\n",
       "        [0.30864198, 0.30864198, 0.30864198, ..., 0.27173449,\n",
       "         0.26053028, 0.250005  ],\n",
       "        [0.30864198, 0.30864198, 0.30864198, ..., 0.27173449,\n",
       "         0.26053028, 0.250005  ]],\n",
       "\n",
       "       ...,\n",
       "\n",
       "       [[0.30864198, 0.30864198, 0.30864198, ..., 0.27173449,\n",
       "         0.26053028, 0.250005  ],\n",
       "        [0.30864198, 0.30864198, 0.30864198, ..., 0.27173449,\n",
       "         0.26053028, 0.250005  ],\n",
       "        [0.30864198, 0.30864198, 0.30864198, ..., 0.27173449,\n",
       "         0.26053028, 0.250005  ],\n",
       "        ...,\n",
       "        [0.30864198, 0.30864198, 0.30864198, ..., 0.27173449,\n",
       "         0.26053028, 0.250005  ],\n",
       "        [0.30864198, 0.30864198, 0.30864198, ..., 0.27173449,\n",
       "         0.26053028, 0.250005  ],\n",
       "        [0.30864198, 0.30864198, 0.30864198, ..., 0.27173449,\n",
       "         0.26053028, 0.250005  ]],\n",
       "\n",
       "       [[0.30864198, 0.30864198, 0.30864198, ..., 0.27173449,\n",
       "         0.26053028, 0.250005  ],\n",
       "        [0.30864198, 0.30864198, 0.30864198, ..., 0.27173449,\n",
       "         0.26053028, 0.250005  ],\n",
       "        [0.30864198, 0.30864198, 0.30864198, ..., 0.27173449,\n",
       "         0.26053028, 0.250005  ],\n",
       "        ...,\n",
       "        [0.30864198, 0.30864198, 0.30864198, ..., 0.27173449,\n",
       "         0.26053028, 0.250005  ],\n",
       "        [0.30864198, 0.30864198, 0.30864198, ..., 0.27173449,\n",
       "         0.26053028, 0.250005  ],\n",
       "        [0.30864198, 0.30864198, 0.30864198, ..., 0.27173449,\n",
       "         0.26053028, 0.250005  ]],\n",
       "\n",
       "       [[0.30864198, 0.30864198, 0.30864198, ..., 0.27173449,\n",
       "         0.26053028, 0.250005  ],\n",
       "        [0.30864198, 0.30864198, 0.30864198, ..., 0.27173449,\n",
       "         0.26053028, 0.250005  ],\n",
       "        [0.30864198, 0.30864198, 0.30864198, ..., 0.27173449,\n",
       "         0.26053028, 0.250005  ],\n",
       "        ...,\n",
       "        [0.30864198, 0.30864198, 0.30864198, ..., 0.27173449,\n",
       "         0.26053028, 0.250005  ],\n",
       "        [0.30864198, 0.30864198, 0.30864198, ..., 0.27173449,\n",
       "         0.26053028, 0.250005  ],\n",
       "        [0.30864198, 0.30864198, 0.30864198, ..., 0.27173449,\n",
       "         0.26053028, 0.250005  ]]])"
      ]
     },
     "execution_count": 11,
     "metadata": {},
     "output_type": "execute_result"
    }
   ],
   "source": [
    "mints=np.zeros((len(ells[ells<10]),len(fns[0:100])))\n",
    "#if np.max(ells>10):\n",
    " #       mints[ells>10,:]=Integrating_Cls_Bessel.interpolated_minT(ells[ells>10],fns)\n",
    "    \n",
    "newts=(1-mints[:,:,np.newaxis])*ts+mints[:,:,np.newaxis]\n",
    "hights=newts.copy()\n",
    "hights[newts<0.7]=0.9\n",
    "\n",
    "ttilde_1=hypfnearone(ells[ells<10][:,np.newaxis,np.newaxis],fns[np.newaxis,0:100,np.newaxis],hights)[0]\n",
    "ttilde_2=hypfnearone(ells[ells<10][:,np.newaxis,np.newaxis],fns[np.newaxis,0:100,np.newaxis],hights)[-1]\n",
    "ttilde_1/ttilde_2"
   ]
  },
  {
   "cell_type": "code",
   "execution_count": null,
   "metadata": {},
   "outputs": [],
   "source": []
  }
 ],
 "metadata": {
  "kernelspec": {
   "display_name": "Python 3",
   "language": "python",
   "name": "python3"
  },
  "language_info": {
   "codemirror_mode": {
    "name": "ipython",
    "version": 3
   },
   "file_extension": ".py",
   "mimetype": "text/x-python",
   "name": "python",
   "nbconvert_exporter": "python",
   "pygments_lexer": "ipython3",
   "version": "3.6.5"
  }
 },
 "nbformat": 4,
 "nbformat_minor": 2
}
